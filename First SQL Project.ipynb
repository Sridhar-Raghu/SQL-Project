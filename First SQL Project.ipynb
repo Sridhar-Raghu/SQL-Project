{
 "cells": [
  {
   "cell_type": "markdown",
   "metadata": {},
   "source": [
    "## Analyzing CIA Factbook Data Using SQL\n",
    "\n",
    "In this project, we're' work with data from the [CIA World](https://www.cia.gov/library/publications/the-world-factbook/) Factbook, a compendium of statistics about all of the countries on Earth. The Factbook contains demographic information like:\n",
    "\n",
    "- population - The population as of 2015.\n",
    "- population_growth - The annual population growth rate, as a percentage.\n",
    "- area - The total land and water area."
   ]
  },
  {
   "cell_type": "code",
   "execution_count": 1,
   "metadata": {
    "collapsed": false
   },
   "outputs": [
    {
     "data": {
      "text/plain": [
       "'Connected: None@factbook.db'"
      ]
     },
     "execution_count": 1,
     "metadata": {},
     "output_type": "execute_result"
    }
   ],
   "source": [
    "%%capture\n",
    "%load_ext sql\n",
    "%sql sqlite:///factbook.db"
   ]
  },
  {
   "cell_type": "code",
   "execution_count": 2,
   "metadata": {
    "collapsed": false
   },
   "outputs": [
    {
     "name": "stdout",
     "output_type": "stream",
     "text": [
      "Done.\n"
     ]
    },
    {
     "data": {
      "text/html": [
       "<table>\n",
       "    <tr>\n",
       "        <th>type</th>\n",
       "        <th>name</th>\n",
       "        <th>tbl_name</th>\n",
       "        <th>rootpage</th>\n",
       "        <th>sql</th>\n",
       "    </tr>\n",
       "    <tr>\n",
       "        <td>table</td>\n",
       "        <td>sqlite_sequence</td>\n",
       "        <td>sqlite_sequence</td>\n",
       "        <td>3</td>\n",
       "        <td>CREATE TABLE sqlite_sequence(name,seq)</td>\n",
       "    </tr>\n",
       "    <tr>\n",
       "        <td>table</td>\n",
       "        <td>facts</td>\n",
       "        <td>facts</td>\n",
       "        <td>47</td>\n",
       "        <td>CREATE TABLE &quot;facts&quot; (&quot;id&quot; INTEGER PRIMARY KEY AUTOINCREMENT NOT NULL, &quot;code&quot; varchar(255) NOT NULL, &quot;name&quot; varchar(255) NOT NULL, &quot;area&quot; integer, &quot;area_land&quot; integer, &quot;area_water&quot; integer, &quot;population&quot; integer, &quot;population_growth&quot; float, &quot;birth_rate&quot; float, &quot;death_rate&quot; float, &quot;migration_rate&quot; float)</td>\n",
       "    </tr>\n",
       "</table>"
      ],
      "text/plain": [
       "[('table', 'sqlite_sequence', 'sqlite_sequence', 3, 'CREATE TABLE sqlite_sequence(name,seq)'),\n",
       " ('table', 'facts', 'facts', 47, 'CREATE TABLE \"facts\" (\"id\" INTEGER PRIMARY KEY AUTOINCREMENT NOT NULL, \"code\" varchar(255) NOT NULL, \"name\" varchar(255) NOT NULL, \"area\" integer, \"a ... (4 characters truncated) ... land\" integer, \"area_water\" integer, \"population\" integer, \"population_growth\" float, \"birth_rate\" float, \"death_rate\" float, \"migration_rate\" float)')]"
      ]
     },
     "execution_count": 2,
     "metadata": {},
     "output_type": "execute_result"
    }
   ],
   "source": [
    "%%sql\n",
    "SELECT * \n",
    "    FROM sqlite_master\n",
    "    WHERE type='table';"
   ]
  },
  {
   "cell_type": "code",
   "execution_count": 4,
   "metadata": {
    "collapsed": false
   },
   "outputs": [
    {
     "name": "stdout",
     "output_type": "stream",
     "text": [
      "Done.\n"
     ]
    },
    {
     "data": {
      "text/html": [
       "<table>\n",
       "    <tr>\n",
       "        <th>id</th>\n",
       "        <th>code</th>\n",
       "        <th>name</th>\n",
       "        <th>area</th>\n",
       "        <th>area_land</th>\n",
       "        <th>area_water</th>\n",
       "        <th>population</th>\n",
       "        <th>population_growth</th>\n",
       "        <th>birth_rate</th>\n",
       "        <th>death_rate</th>\n",
       "        <th>migration_rate</th>\n",
       "    </tr>\n",
       "    <tr>\n",
       "        <td>1</td>\n",
       "        <td>af</td>\n",
       "        <td>Afghanistan</td>\n",
       "        <td>652230</td>\n",
       "        <td>652230</td>\n",
       "        <td>0</td>\n",
       "        <td>32564342</td>\n",
       "        <td>2.32</td>\n",
       "        <td>38.57</td>\n",
       "        <td>13.89</td>\n",
       "        <td>1.51</td>\n",
       "    </tr>\n",
       "    <tr>\n",
       "        <td>2</td>\n",
       "        <td>al</td>\n",
       "        <td>Albania</td>\n",
       "        <td>28748</td>\n",
       "        <td>27398</td>\n",
       "        <td>1350</td>\n",
       "        <td>3029278</td>\n",
       "        <td>0.3</td>\n",
       "        <td>12.92</td>\n",
       "        <td>6.58</td>\n",
       "        <td>3.3</td>\n",
       "    </tr>\n",
       "    <tr>\n",
       "        <td>3</td>\n",
       "        <td>ag</td>\n",
       "        <td>Algeria</td>\n",
       "        <td>2381741</td>\n",
       "        <td>2381741</td>\n",
       "        <td>0</td>\n",
       "        <td>39542166</td>\n",
       "        <td>1.84</td>\n",
       "        <td>23.67</td>\n",
       "        <td>4.31</td>\n",
       "        <td>0.92</td>\n",
       "    </tr>\n",
       "    <tr>\n",
       "        <td>4</td>\n",
       "        <td>an</td>\n",
       "        <td>Andorra</td>\n",
       "        <td>468</td>\n",
       "        <td>468</td>\n",
       "        <td>0</td>\n",
       "        <td>85580</td>\n",
       "        <td>0.12</td>\n",
       "        <td>8.13</td>\n",
       "        <td>6.96</td>\n",
       "        <td>0.0</td>\n",
       "    </tr>\n",
       "    <tr>\n",
       "        <td>5</td>\n",
       "        <td>ao</td>\n",
       "        <td>Angola</td>\n",
       "        <td>1246700</td>\n",
       "        <td>1246700</td>\n",
       "        <td>0</td>\n",
       "        <td>19625353</td>\n",
       "        <td>2.78</td>\n",
       "        <td>38.78</td>\n",
       "        <td>11.49</td>\n",
       "        <td>0.46</td>\n",
       "    </tr>\n",
       "</table>"
      ],
      "text/plain": [
       "[(1, 'af', 'Afghanistan', 652230, 652230, 0, 32564342, 2.32, 38.57, 13.89, 1.51),\n",
       " (2, 'al', 'Albania', 28748, 27398, 1350, 3029278, 0.3, 12.92, 6.58, 3.3),\n",
       " (3, 'ag', 'Algeria', 2381741, 2381741, 0, 39542166, 1.84, 23.67, 4.31, 0.92),\n",
       " (4, 'an', 'Andorra', 468, 468, 0, 85580, 0.12, 8.13, 6.96, 0.0),\n",
       " (5, 'ao', 'Angola', 1246700, 1246700, 0, 19625353, 2.78, 38.78, 11.49, 0.46)]"
      ]
     },
     "execution_count": 4,
     "metadata": {},
     "output_type": "execute_result"
    }
   ],
   "source": [
    "%%sql\n",
    "SELECT * \n",
    "    FROM facts\n",
    "    LIMIT 5;"
   ]
  },
  {
   "cell_type": "code",
   "execution_count": 5,
   "metadata": {
    "collapsed": false
   },
   "outputs": [
    {
     "name": "stdout",
     "output_type": "stream",
     "text": [
      "Done.\n"
     ]
    },
    {
     "data": {
      "text/html": [
       "<table>\n",
       "    <tr>\n",
       "        <th>MIN(population)</th>\n",
       "        <th>MAX(population)</th>\n",
       "        <th>MAX(population_growth)</th>\n",
       "        <th>MIN(population_growth)</th>\n",
       "    </tr>\n",
       "    <tr>\n",
       "        <td>0</td>\n",
       "        <td>7256490011</td>\n",
       "        <td>4.02</td>\n",
       "        <td>0.0</td>\n",
       "    </tr>\n",
       "</table>"
      ],
      "text/plain": [
       "[(0, 7256490011, 4.02, 0.0)]"
      ]
     },
     "execution_count": 5,
     "metadata": {},
     "output_type": "execute_result"
    }
   ],
   "source": [
    "%%sql\n",
    "SELECT MIN(population), MAX(population), \n",
    "    MAX(population_growth), MIN(population_growth)\n",
    "    FROM facts"
   ]
  },
  {
   "cell_type": "code",
   "execution_count": 6,
   "metadata": {
    "collapsed": false
   },
   "outputs": [
    {
     "name": "stdout",
     "output_type": "stream",
     "text": [
      "Done.\n"
     ]
    },
    {
     "data": {
      "text/html": [
       "<table>\n",
       "    <tr>\n",
       "        <th>name</th>\n",
       "    </tr>\n",
       "    <tr>\n",
       "        <td>Antarctica</td>\n",
       "    </tr>\n",
       "</table>"
      ],
      "text/plain": [
       "[('Antarctica',)]"
      ]
     },
     "execution_count": 6,
     "metadata": {},
     "output_type": "execute_result"
    }
   ],
   "source": [
    "%%sql\n",
    "SELECT name\n",
    "    FROM facts\n",
    "    WHERE population == (SELECT MIN(population) FROM facts);"
   ]
  },
  {
   "cell_type": "code",
   "execution_count": 7,
   "metadata": {
    "collapsed": false
   },
   "outputs": [
    {
     "name": "stdout",
     "output_type": "stream",
     "text": [
      "Done.\n"
     ]
    },
    {
     "data": {
      "text/html": [
       "<table>\n",
       "    <tr>\n",
       "        <th>name</th>\n",
       "    </tr>\n",
       "    <tr>\n",
       "        <td>World</td>\n",
       "    </tr>\n",
       "</table>"
      ],
      "text/plain": [
       "[('World',)]"
      ]
     },
     "execution_count": 7,
     "metadata": {},
     "output_type": "execute_result"
    }
   ],
   "source": [
    "%%sql\n",
    "SELECT name\n",
    "    FROM facts\n",
    "    WHERE population == (SELECT MAX(population) FROM facts);"
   ]
  },
  {
   "cell_type": "code",
   "execution_count": 11,
   "metadata": {
    "collapsed": false
   },
   "outputs": [
    {
     "name": "stdout",
     "output_type": "stream",
     "text": [
      "Done.\n"
     ]
    },
    {
     "data": {
      "text/html": [
       "<table>\n",
       "    <tr>\n",
       "        <th>MIN(population)</th>\n",
       "        <th>MAX(population)</th>\n",
       "        <th>MIN(population_growth)</th>\n",
       "        <th>MAX(population_growth)</th>\n",
       "    </tr>\n",
       "    <tr>\n",
       "        <td>0</td>\n",
       "        <td>1367485388</td>\n",
       "        <td>0.0</td>\n",
       "        <td>4.02</td>\n",
       "    </tr>\n",
       "</table>"
      ],
      "text/plain": [
       "[(0, 1367485388, 0.0, 4.02)]"
      ]
     },
     "execution_count": 11,
     "metadata": {},
     "output_type": "execute_result"
    }
   ],
   "source": [
    "%%sql\n",
    "SELECT MIN(population), MAX(population), \n",
    "    MIN(population_growth), MAX(population_growth)\n",
    "    FROM facts\n",
    "    WHERE name != 'World';"
   ]
  },
  {
   "cell_type": "code",
   "execution_count": 12,
   "metadata": {
    "collapsed": false
   },
   "outputs": [
    {
     "name": "stdout",
     "output_type": "stream",
     "text": [
      "Done.\n"
     ]
    },
    {
     "data": {
      "text/html": [
       "<table>\n",
       "    <tr>\n",
       "        <th>AVG(population)</th>\n",
       "        <th>AVG(area)</th>\n",
       "    </tr>\n",
       "    <tr>\n",
       "        <td>62094928.32231405</td>\n",
       "        <td>555093.546184739</td>\n",
       "    </tr>\n",
       "</table>"
      ],
      "text/plain": [
       "[(62094928.32231405, 555093.546184739)]"
      ]
     },
     "execution_count": 12,
     "metadata": {},
     "output_type": "execute_result"
    }
   ],
   "source": [
    "%%sql\n",
    "SELECT AVG(population), AVG(area)\n",
    "    FROM facts;"
   ]
  },
  {
   "cell_type": "code",
   "execution_count": 13,
   "metadata": {
    "collapsed": false
   },
   "outputs": [
    {
     "name": "stdout",
     "output_type": "stream",
     "text": [
      "Done.\n"
     ]
    },
    {
     "data": {
      "text/html": [
       "<table>\n",
       "    <tr>\n",
       "        <th>name</th>\n",
       "    </tr>\n",
       "    <tr>\n",
       "        <td>Bangladesh</td>\n",
       "    </tr>\n",
       "    <tr>\n",
       "        <td>Germany</td>\n",
       "    </tr>\n",
       "    <tr>\n",
       "        <td>Japan</td>\n",
       "    </tr>\n",
       "    <tr>\n",
       "        <td>Philippines</td>\n",
       "    </tr>\n",
       "    <tr>\n",
       "        <td>Thailand</td>\n",
       "    </tr>\n",
       "    <tr>\n",
       "        <td>United Kingdom</td>\n",
       "    </tr>\n",
       "    <tr>\n",
       "        <td>Vietnam</td>\n",
       "    </tr>\n",
       "</table>"
      ],
      "text/plain": [
       "[('Bangladesh',),\n",
       " ('Germany',),\n",
       " ('Japan',),\n",
       " ('Philippines',),\n",
       " ('Thailand',),\n",
       " ('United Kingdom',),\n",
       " ('Vietnam',)]"
      ]
     },
     "execution_count": 13,
     "metadata": {},
     "output_type": "execute_result"
    }
   ],
   "source": [
    "%%sql\n",
    "SELECT name \n",
    "    FROM facts\n",
    "    WHERE population > (SELECT AVG(population) FROM facts)\n",
    "    AND area < (SELECT AVG(area) FROM facts);\n",
    "    "
   ]
  },
  {
   "cell_type": "markdown",
   "metadata": {},
   "source": [
    "## Country with Most People"
   ]
  },
  {
   "cell_type": "code",
   "execution_count": 26,
   "metadata": {
    "collapsed": false
   },
   "outputs": [
    {
     "name": "stdout",
     "output_type": "stream",
     "text": [
      "Done.\n"
     ]
    },
    {
     "data": {
      "text/html": [
       "<table>\n",
       "    <tr>\n",
       "        <th>name</th>\n",
       "        <th>MAX(population)</th>\n",
       "    </tr>\n",
       "    <tr>\n",
       "        <td>China</td>\n",
       "        <td>1367485388</td>\n",
       "    </tr>\n",
       "</table>"
      ],
      "text/plain": [
       "[('China', 1367485388)]"
      ]
     },
     "execution_count": 26,
     "metadata": {},
     "output_type": "execute_result"
    }
   ],
   "source": [
    "%%sql\n",
    "SELECT name, MAX(population)\n",
    "    FROM facts\n",
    "    WHERE population == (SELECT MAX(population) FROM facts WHERE name <> 'World');"
   ]
  },
  {
   "cell_type": "markdown",
   "metadata": {},
   "source": [
    "## Highest Growth Rate"
   ]
  },
  {
   "cell_type": "code",
   "execution_count": 27,
   "metadata": {
    "collapsed": false
   },
   "outputs": [
    {
     "name": "stdout",
     "output_type": "stream",
     "text": [
      "Done.\n"
     ]
    },
    {
     "data": {
      "text/html": [
       "<table>\n",
       "    <tr>\n",
       "        <th>name</th>\n",
       "        <th>MAX(population_growth)</th>\n",
       "    </tr>\n",
       "    <tr>\n",
       "        <td>South Sudan</td>\n",
       "        <td>4.02</td>\n",
       "    </tr>\n",
       "</table>"
      ],
      "text/plain": [
       "[('South Sudan', 4.02)]"
      ]
     },
     "execution_count": 27,
     "metadata": {},
     "output_type": "execute_result"
    }
   ],
   "source": [
    "%%sql\n",
    "SELECT name, MAX(population_growth)\n",
    "    FROM facts\n",
    "    WHERE population_growth == (SELECT MAX(population_growth) FROM facts WHERE name <> 'World')"
   ]
  },
  {
   "cell_type": "markdown",
   "metadata": {},
   "source": [
    "## Countries has Highest Ratio of Water to Land"
   ]
  },
  {
   "cell_type": "code",
   "execution_count": 30,
   "metadata": {
    "collapsed": false
   },
   "outputs": [
    {
     "name": "stdout",
     "output_type": "stream",
     "text": [
      "Done.\n"
     ]
    },
    {
     "data": {
      "text/html": [
       "<table>\n",
       "    <tr>\n",
       "        <th>name</th>\n",
       "        <th>Ratio_Water_To_Land</th>\n",
       "    </tr>\n",
       "    <tr>\n",
       "        <td>British Indian Ocean Territory</td>\n",
       "        <td>905</td>\n",
       "    </tr>\n",
       "    <tr>\n",
       "        <td>Virgin Islands</td>\n",
       "        <td>4</td>\n",
       "    </tr>\n",
       "</table>"
      ],
      "text/plain": [
       "[('British Indian Ocean Territory', 905), ('Virgin Islands', 4)]"
      ]
     },
     "execution_count": 30,
     "metadata": {},
     "output_type": "execute_result"
    }
   ],
   "source": [
    "%%sql\n",
    "SELECT name, area_water/area_land AS Ratio_Water_To_Land\n",
    "    FROM facts\n",
    "    WHERE Ratio_Water_To_Land > (SELECT AVG(area_water/area_land) FROM facts)"
   ]
  },
  {
   "cell_type": "markdown",
   "metadata": {},
   "source": [
    "## Countries Have More Water Than Land"
   ]
  },
  {
   "cell_type": "code",
   "execution_count": 31,
   "metadata": {
    "collapsed": false
   },
   "outputs": [
    {
     "name": "stdout",
     "output_type": "stream",
     "text": [
      "Done.\n"
     ]
    },
    {
     "data": {
      "text/html": [
       "<table>\n",
       "    <tr>\n",
       "        <th>name</th>\n",
       "    </tr>\n",
       "    <tr>\n",
       "        <td>British Indian Ocean Territory</td>\n",
       "    </tr>\n",
       "    <tr>\n",
       "        <td>Virgin Islands</td>\n",
       "    </tr>\n",
       "</table>"
      ],
      "text/plain": [
       "[('British Indian Ocean Territory',), ('Virgin Islands',)]"
      ]
     },
     "execution_count": 31,
     "metadata": {},
     "output_type": "execute_result"
    }
   ],
   "source": [
    "%%sql\n",
    "SELECT name\n",
    "    FROM facts\n",
    "    WHERE area_water > area_land"
   ]
  },
  {
   "cell_type": "markdown",
   "metadata": {},
   "source": [
    "## Countries that add the most people to their population next year"
   ]
  },
  {
   "cell_type": "code",
   "execution_count": 42,
   "metadata": {
    "collapsed": false
   },
   "outputs": [
    {
     "name": "stdout",
     "output_type": "stream",
     "text": [
      "Done.\n"
     ]
    },
    {
     "data": {
      "text/html": [
       "<table>\n",
       "    <tr>\n",
       "        <th>name</th>\n",
       "        <th>Ratio</th>\n",
       "    </tr>\n",
       "    <tr>\n",
       "        <td>Gaza Strip</td>\n",
       "        <td>10.233552631578947</td>\n",
       "    </tr>\n",
       "    <tr>\n",
       "        <td>Kuwait</td>\n",
       "        <td>9.133027522935778</td>\n",
       "    </tr>\n",
       "    <tr>\n",
       "        <td>Iraq</td>\n",
       "        <td>8.342175066312997</td>\n",
       "    </tr>\n",
       "    <tr>\n",
       "        <td>United Arab Emirates</td>\n",
       "        <td>7.83248730964467</td>\n",
       "    </tr>\n",
       "    <tr>\n",
       "        <td>Oman</td>\n",
       "        <td>7.273809523809525</td>\n",
       "    </tr>\n",
       "    <tr>\n",
       "        <td>Jordan</td>\n",
       "        <td>6.693931398416887</td>\n",
       "    </tr>\n",
       "    <tr>\n",
       "        <td>Solomon Islands</td>\n",
       "        <td>6.693506493506494</td>\n",
       "    </tr>\n",
       "    <tr>\n",
       "        <td>West Bank</td>\n",
       "        <td>6.5685714285714285</td>\n",
       "    </tr>\n",
       "    <tr>\n",
       "        <td>Qatar</td>\n",
       "        <td>6.431372549019607</td>\n",
       "    </tr>\n",
       "    <tr>\n",
       "        <td>Vanuatu</td>\n",
       "        <td>6.1222493887530565</td>\n",
       "    </tr>\n",
       "</table>"
      ],
      "text/plain": [
       "[('Gaza Strip', 10.233552631578947),\n",
       " ('Kuwait', 9.133027522935778),\n",
       " ('Iraq', 8.342175066312997),\n",
       " ('United Arab Emirates', 7.83248730964467),\n",
       " ('Oman', 7.273809523809525),\n",
       " ('Jordan', 6.693931398416887),\n",
       " ('Solomon Islands', 6.693506493506494),\n",
       " ('West Bank', 6.5685714285714285),\n",
       " ('Qatar', 6.431372549019607),\n",
       " ('Vanuatu', 6.1222493887530565)]"
      ]
     },
     "execution_count": 42,
     "metadata": {},
     "output_type": "execute_result"
    }
   ],
   "source": [
    "%%sql\n",
    "SELECT name, birth_rate/death_rate AS Ratio\n",
    "    FROM facts\n",
    "    ORDER BY Ratio DESC\n",
    "    LIMIT 10"
   ]
  },
  {
   "cell_type": "markdown",
   "metadata": {},
   "source": [
    "## Countries have a higher death rate than birth rate"
   ]
  },
  {
   "cell_type": "code",
   "execution_count": 45,
   "metadata": {
    "collapsed": false
   },
   "outputs": [
    {
     "name": "stdout",
     "output_type": "stream",
     "text": [
      "Done.\n"
     ]
    },
    {
     "data": {
      "text/html": [
       "<table>\n",
       "    <tr>\n",
       "        <th>name</th>\n",
       "        <th>ratio</th>\n",
       "    </tr>\n",
       "    <tr>\n",
       "        <td>Bulgaria</td>\n",
       "        <td>1.6188340807174888</td>\n",
       "    </tr>\n",
       "    <tr>\n",
       "        <td>Serbia</td>\n",
       "        <td>1.5044052863436124</td>\n",
       "    </tr>\n",
       "    <tr>\n",
       "        <td>Latvia</td>\n",
       "        <td>1.431</td>\n",
       "    </tr>\n",
       "    <tr>\n",
       "        <td>Lithuania</td>\n",
       "        <td>1.4128712871287128</td>\n",
       "    </tr>\n",
       "    <tr>\n",
       "        <td>Hungary</td>\n",
       "        <td>1.3897379912663756</td>\n",
       "    </tr>\n",
       "    <tr>\n",
       "        <td>Monaco</td>\n",
       "        <td>1.3894736842105262</td>\n",
       "    </tr>\n",
       "    <tr>\n",
       "        <td>Slovenia</td>\n",
       "        <td>1.350356294536817</td>\n",
       "    </tr>\n",
       "    <tr>\n",
       "        <td>Ukraine</td>\n",
       "        <td>1.3488805970149254</td>\n",
       "    </tr>\n",
       "    <tr>\n",
       "        <td>Germany</td>\n",
       "        <td>1.3482880755608027</td>\n",
       "    </tr>\n",
       "    <tr>\n",
       "        <td>Saint Pierre and Miquelon</td>\n",
       "        <td>1.3099730458221026</td>\n",
       "    </tr>\n",
       "    <tr>\n",
       "        <td>Romania</td>\n",
       "        <td>1.3019693654266957</td>\n",
       "    </tr>\n",
       "    <tr>\n",
       "        <td>Croatia</td>\n",
       "        <td>1.288888888888889</td>\n",
       "    </tr>\n",
       "    <tr>\n",
       "        <td>Greece</td>\n",
       "        <td>1.2806004618937643</td>\n",
       "    </tr>\n",
       "    <tr>\n",
       "        <td>Belarus</td>\n",
       "        <td>1.2485981308411216</td>\n",
       "    </tr>\n",
       "    <tr>\n",
       "        <td>Japan</td>\n",
       "        <td>1.1992433795712485</td>\n",
       "    </tr>\n",
       "    <tr>\n",
       "        <td>Portugal</td>\n",
       "        <td>1.1887810140237325</td>\n",
       "    </tr>\n",
       "    <tr>\n",
       "        <td>Russia</td>\n",
       "        <td>1.1801724137931033</td>\n",
       "    </tr>\n",
       "    <tr>\n",
       "        <td>Estonia</td>\n",
       "        <td>1.1798287345385348</td>\n",
       "    </tr>\n",
       "    <tr>\n",
       "        <td>Italy</td>\n",
       "        <td>1.165903890160183</td>\n",
       "    </tr>\n",
       "    <tr>\n",
       "        <td>Bosnia and Herzegovina</td>\n",
       "        <td>1.0992108229988726</td>\n",
       "    </tr>\n",
       "    <tr>\n",
       "        <td>Czech Republic</td>\n",
       "        <td>1.0737279335410175</td>\n",
       "    </tr>\n",
       "    <tr>\n",
       "        <td>Moldova</td>\n",
       "        <td>1.0491666666666666</td>\n",
       "    </tr>\n",
       "    <tr>\n",
       "        <td>Poland</td>\n",
       "        <td>1.0462012320328542</td>\n",
       "    </tr>\n",
       "    <tr>\n",
       "        <td>Austria</td>\n",
       "        <td>1.0010626992561105</td>\n",
       "    </tr>\n",
       "    <tr>\n",
       "        <td>European Union</td>\n",
       "        <td>1.0</td>\n",
       "    </tr>\n",
       "    <tr>\n",
       "        <td>Denmark</td>\n",
       "        <td>0.9980525803310614</td>\n",
       "    </tr>\n",
       "    <tr>\n",
       "        <td>Slovakia</td>\n",
       "        <td>0.9828456104944501</td>\n",
       "    </tr>\n",
       "    <tr>\n",
       "        <td>San Marino</td>\n",
       "        <td>0.9791425260718423</td>\n",
       "    </tr>\n",
       "    <tr>\n",
       "        <td>Spain</td>\n",
       "        <td>0.937759336099585</td>\n",
       "    </tr>\n",
       "    <tr>\n",
       "        <td>Finland</td>\n",
       "        <td>0.9169776119402985</td>\n",
       "    </tr>\n",
       "    <tr>\n",
       "        <td>Isle of Man</td>\n",
       "        <td>0.9063063063063064</td>\n",
       "    </tr>\n",
       "    <tr>\n",
       "        <td>Montenegro</td>\n",
       "        <td>0.9049904030710173</td>\n",
       "    </tr>\n",
       "    <tr>\n",
       "        <td>Malta</td>\n",
       "        <td>0.8929273084479371</td>\n",
       "    </tr>\n",
       "    <tr>\n",
       "        <td>Guernsey</td>\n",
       "        <td>0.8922764227642276</td>\n",
       "    </tr>\n",
       "    <tr>\n",
       "        <td>Andorra</td>\n",
       "        <td>0.8560885608856088</td>\n",
       "    </tr>\n",
       "    <tr>\n",
       "        <td>Georgia</td>\n",
       "        <td>0.8492935635792779</td>\n",
       "    </tr>\n",
       "    <tr>\n",
       "        <td>Belgium</td>\n",
       "        <td>0.8439964943032429</td>\n",
       "    </tr>\n",
       "    <tr>\n",
       "        <td>Taiwan</td>\n",
       "        <td>0.8394332939787486</td>\n",
       "    </tr>\n",
       "    <tr>\n",
       "        <td>Virgin Islands</td>\n",
       "        <td>0.8283220174587778</td>\n",
       "    </tr>\n",
       "    <tr>\n",
       "        <td>Korea, South</td>\n",
       "        <td>0.8241758241758242</td>\n",
       "    </tr>\n",
       "    <tr>\n",
       "        <td>Canada</td>\n",
       "        <td>0.8190661478599223</td>\n",
       "    </tr>\n",
       "    <tr>\n",
       "        <td>Netherlands</td>\n",
       "        <td>0.7996306555863343</td>\n",
       "    </tr>\n",
       "    <tr>\n",
       "        <td>Puerto Rico</td>\n",
       "        <td>0.7983425414364641</td>\n",
       "    </tr>\n",
       "    <tr>\n",
       "        <td>Macedonia</td>\n",
       "        <td>0.7861471861471861</td>\n",
       "    </tr>\n",
       "    <tr>\n",
       "        <td>Sweden</td>\n",
       "        <td>0.7839866555462885</td>\n",
       "    </tr>\n",
       "    <tr>\n",
       "        <td>Cuba</td>\n",
       "        <td>0.7797979797979797</td>\n",
       "    </tr>\n",
       "    <tr>\n",
       "        <td>Switzerland</td>\n",
       "        <td>0.7742857142857144</td>\n",
       "    </tr>\n",
       "    <tr>\n",
       "        <td>United Kingdom</td>\n",
       "        <td>0.7682826622843056</td>\n",
       "    </tr>\n",
       "    <tr>\n",
       "        <td>Hong Kong</td>\n",
       "        <td>0.7659804983748646</td>\n",
       "    </tr>\n",
       "    <tr>\n",
       "        <td>Saint Helena, Ascension, and Tristan da Cunha</td>\n",
       "        <td>0.7530364372469636</td>\n",
       "    </tr>\n",
       "    <tr>\n",
       "        <td>France</td>\n",
       "        <td>0.739903069466882</td>\n",
       "    </tr>\n",
       "    <tr>\n",
       "        <td>Bermuda</td>\n",
       "        <td>0.7263901147396293</td>\n",
       "    </tr>\n",
       "    <tr>\n",
       "        <td>Palau</td>\n",
       "        <td>0.7230769230769231</td>\n",
       "    </tr>\n",
       "    <tr>\n",
       "        <td>Uruguay</td>\n",
       "        <td>0.7230298393267023</td>\n",
       "    </tr>\n",
       "    <tr>\n",
       "        <td>Barbados</td>\n",
       "        <td>0.7110362257792755</td>\n",
       "    </tr>\n",
       "    <tr>\n",
       "        <td>Namibia</td>\n",
       "        <td>0.7025252525252526</td>\n",
       "    </tr>\n",
       "    <tr>\n",
       "        <td>Thailand</td>\n",
       "        <td>0.6970509383378016</td>\n",
       "    </tr>\n",
       "    <tr>\n",
       "        <td>Armenia</td>\n",
       "        <td>0.6862601028655401</td>\n",
       "    </tr>\n",
       "    <tr>\n",
       "        <td>Liechtenstein</td>\n",
       "        <td>0.6813397129186604</td>\n",
       "    </tr>\n",
       "    <tr>\n",
       "        <td>Norway</td>\n",
       "        <td>0.6688632619439867</td>\n",
       "    </tr>\n",
       "    <tr>\n",
       "        <td>United States</td>\n",
       "        <td>0.6525220176140913</td>\n",
       "    </tr>\n",
       "    <tr>\n",
       "        <td>Aruba</td>\n",
       "        <td>0.6512738853503184</td>\n",
       "    </tr>\n",
       "    <tr>\n",
       "        <td>Jersey</td>\n",
       "        <td>0.6448362720403022</td>\n",
       "    </tr>\n",
       "    <tr>\n",
       "        <td>Botswana</td>\n",
       "        <td>0.6388358778625954</td>\n",
       "    </tr>\n",
       "    <tr>\n",
       "        <td>Luxembourg</td>\n",
       "        <td>0.6367634124890063</td>\n",
       "    </tr>\n",
       "    <tr>\n",
       "        <td>Trinidad and Tobago</td>\n",
       "        <td>0.6359583952451708</td>\n",
       "    </tr>\n",
       "    <tr>\n",
       "        <td>Korea, North</td>\n",
       "        <td>0.6342975206611571</td>\n",
       "    </tr>\n",
       "    <tr>\n",
       "        <td>Faroe Islands</td>\n",
       "        <td>0.6325344952795934</td>\n",
       "    </tr>\n",
       "    <tr>\n",
       "        <td>China</td>\n",
       "        <td>0.6028823058446757</td>\n",
       "    </tr>\n",
       "    <tr>\n",
       "        <td>Gibraltar</td>\n",
       "        <td>0.5944602272727272</td>\n",
       "    </tr>\n",
       "    <tr>\n",
       "        <td>Curacao</td>\n",
       "        <td>0.5942028985507245</td>\n",
       "    </tr>\n",
       "    <tr>\n",
       "        <td>Australia</td>\n",
       "        <td>0.5876543209876542</td>\n",
       "    </tr>\n",
       "    <tr>\n",
       "        <td>Greenland</td>\n",
       "        <td>0.5863259668508287</td>\n",
       "    </tr>\n",
       "    <tr>\n",
       "        <td>Lesotho</td>\n",
       "        <td>0.5846093443266589</td>\n",
       "    </tr>\n",
       "    <tr>\n",
       "        <td>Cyprus</td>\n",
       "        <td>0.5801928133216476</td>\n",
       "    </tr>\n",
       "    <tr>\n",
       "        <td>Cook Islands</td>\n",
       "        <td>0.5603628750872296</td>\n",
       "    </tr>\n",
       "    <tr>\n",
       "        <td>Montserrat</td>\n",
       "        <td>0.5595026642984015</td>\n",
       "    </tr>\n",
       "    <tr>\n",
       "        <td>New Zealand</td>\n",
       "        <td>0.5521380345086272</td>\n",
       "    </tr>\n",
       "    <tr>\n",
       "        <td>Swaziland</td>\n",
       "        <td>0.5496554519659506</td>\n",
       "    </tr>\n",
       "    <tr>\n",
       "        <td>Saint Lucia</td>\n",
       "        <td>0.5416058394160584</td>\n",
       "    </tr>\n",
       "    <tr>\n",
       "        <td>Saint Vincent and the Grenadines</td>\n",
       "        <td>0.529108327192336</td>\n",
       "    </tr>\n",
       "    <tr>\n",
       "        <td>Saint Kitts and Nevis</td>\n",
       "        <td>0.5251851851851852</td>\n",
       "    </tr>\n",
       "    <tr>\n",
       "        <td>Mauritius</td>\n",
       "        <td>0.5199398043641836</td>\n",
       "    </tr>\n",
       "    <tr>\n",
       "        <td>Dominica</td>\n",
       "        <td>0.5133030499675535</td>\n",
       "    </tr>\n",
       "</table>"
      ],
      "text/plain": [
       "[('Bulgaria', 1.6188340807174888),\n",
       " ('Serbia', 1.5044052863436124),\n",
       " ('Latvia', 1.431),\n",
       " ('Lithuania', 1.4128712871287128),\n",
       " ('Hungary', 1.3897379912663756),\n",
       " ('Monaco', 1.3894736842105262),\n",
       " ('Slovenia', 1.350356294536817),\n",
       " ('Ukraine', 1.3488805970149254),\n",
       " ('Germany', 1.3482880755608027),\n",
       " ('Saint Pierre and Miquelon', 1.3099730458221026),\n",
       " ('Romania', 1.3019693654266957),\n",
       " ('Croatia', 1.288888888888889),\n",
       " ('Greece', 1.2806004618937643),\n",
       " ('Belarus', 1.2485981308411216),\n",
       " ('Japan', 1.1992433795712485),\n",
       " ('Portugal', 1.1887810140237325),\n",
       " ('Russia', 1.1801724137931033),\n",
       " ('Estonia', 1.1798287345385348),\n",
       " ('Italy', 1.165903890160183),\n",
       " ('Bosnia and Herzegovina', 1.0992108229988726),\n",
       " ('Czech Republic', 1.0737279335410175),\n",
       " ('Moldova', 1.0491666666666666),\n",
       " ('Poland', 1.0462012320328542),\n",
       " ('Austria', 1.0010626992561105),\n",
       " ('European Union', 1.0),\n",
       " ('Denmark', 0.9980525803310614),\n",
       " ('Slovakia', 0.9828456104944501),\n",
       " ('San Marino', 0.9791425260718423),\n",
       " ('Spain', 0.937759336099585),\n",
       " ('Finland', 0.9169776119402985),\n",
       " ('Isle of Man', 0.9063063063063064),\n",
       " ('Montenegro', 0.9049904030710173),\n",
       " ('Malta', 0.8929273084479371),\n",
       " ('Guernsey', 0.8922764227642276),\n",
       " ('Andorra', 0.8560885608856088),\n",
       " ('Georgia', 0.8492935635792779),\n",
       " ('Belgium', 0.8439964943032429),\n",
       " ('Taiwan', 0.8394332939787486),\n",
       " ('Virgin Islands', 0.8283220174587778),\n",
       " ('Korea, South', 0.8241758241758242),\n",
       " ('Canada', 0.8190661478599223),\n",
       " ('Netherlands', 0.7996306555863343),\n",
       " ('Puerto Rico', 0.7983425414364641),\n",
       " ('Macedonia', 0.7861471861471861),\n",
       " ('Sweden', 0.7839866555462885),\n",
       " ('Cuba', 0.7797979797979797),\n",
       " ('Switzerland', 0.7742857142857144),\n",
       " ('United Kingdom', 0.7682826622843056),\n",
       " ('Hong Kong', 0.7659804983748646),\n",
       " ('Saint Helena, Ascension, and Tristan da Cunha', 0.7530364372469636),\n",
       " ('France', 0.739903069466882),\n",
       " ('Bermuda', 0.7263901147396293),\n",
       " ('Palau', 0.7230769230769231),\n",
       " ('Uruguay', 0.7230298393267023),\n",
       " ('Barbados', 0.7110362257792755),\n",
       " ('Namibia', 0.7025252525252526),\n",
       " ('Thailand', 0.6970509383378016),\n",
       " ('Armenia', 0.6862601028655401),\n",
       " ('Liechtenstein', 0.6813397129186604),\n",
       " ('Norway', 0.6688632619439867),\n",
       " ('United States', 0.6525220176140913),\n",
       " ('Aruba', 0.6512738853503184),\n",
       " ('Jersey', 0.6448362720403022),\n",
       " ('Botswana', 0.6388358778625954),\n",
       " ('Luxembourg', 0.6367634124890063),\n",
       " ('Trinidad and Tobago', 0.6359583952451708),\n",
       " ('Korea, North', 0.6342975206611571),\n",
       " ('Faroe Islands', 0.6325344952795934),\n",
       " ('China', 0.6028823058446757),\n",
       " ('Gibraltar', 0.5944602272727272),\n",
       " ('Curacao', 0.5942028985507245),\n",
       " ('Australia', 0.5876543209876542),\n",
       " ('Greenland', 0.5863259668508287),\n",
       " ('Lesotho', 0.5846093443266589),\n",
       " ('Cyprus', 0.5801928133216476),\n",
       " ('Cook Islands', 0.5603628750872296),\n",
       " ('Montserrat', 0.5595026642984015),\n",
       " ('New Zealand', 0.5521380345086272),\n",
       " ('Swaziland', 0.5496554519659506),\n",
       " ('Saint Lucia', 0.5416058394160584),\n",
       " ('Saint Vincent and the Grenadines', 0.529108327192336),\n",
       " ('Saint Kitts and Nevis', 0.5251851851851852),\n",
       " ('Mauritius', 0.5199398043641836),\n",
       " ('Dominica', 0.5133030499675535)]"
      ]
     },
     "execution_count": 45,
     "metadata": {},
     "output_type": "execute_result"
    }
   ],
   "source": [
    "%%sql\n",
    "SELECT name, death_rate/birth_rate AS ratio\n",
    "    FROM facts\n",
    "    WHERE ratio > (SELECT AVG(death_rate/birth_rate) FROM facts)\n",
    "    ORDER BY ratio DESC"
   ]
  },
  {
   "cell_type": "markdown",
   "metadata": {},
   "source": [
    "## Countries have the highest population/area ratio"
   ]
  },
  {
   "cell_type": "code",
   "execution_count": 46,
   "metadata": {
    "collapsed": false
   },
   "outputs": [
    {
     "name": "stdout",
     "output_type": "stream",
     "text": [
      "Done.\n"
     ]
    },
    {
     "data": {
      "text/html": [
       "<table>\n",
       "    <tr>\n",
       "        <th>name</th>\n",
       "        <th>ratio</th>\n",
       "    </tr>\n",
       "    <tr>\n",
       "        <td>Macau</td>\n",
       "        <td>21168</td>\n",
       "    </tr>\n",
       "    <tr>\n",
       "        <td>Monaco</td>\n",
       "        <td>15267</td>\n",
       "    </tr>\n",
       "    <tr>\n",
       "        <td>Singapore</td>\n",
       "        <td>8141</td>\n",
       "    </tr>\n",
       "    <tr>\n",
       "        <td>Hong Kong</td>\n",
       "        <td>6445</td>\n",
       "    </tr>\n",
       "    <tr>\n",
       "        <td>Gaza Strip</td>\n",
       "        <td>5191</td>\n",
       "    </tr>\n",
       "    <tr>\n",
       "        <td>Gibraltar</td>\n",
       "        <td>4876</td>\n",
       "    </tr>\n",
       "    <tr>\n",
       "        <td>Bahrain</td>\n",
       "        <td>1771</td>\n",
       "    </tr>\n",
       "    <tr>\n",
       "        <td>Maldives</td>\n",
       "        <td>1319</td>\n",
       "    </tr>\n",
       "    <tr>\n",
       "        <td>Malta</td>\n",
       "        <td>1310</td>\n",
       "    </tr>\n",
       "    <tr>\n",
       "        <td>Bermuda</td>\n",
       "        <td>1299</td>\n",
       "    </tr>\n",
       "</table>"
      ],
      "text/plain": [
       "[('Macau', 21168),\n",
       " ('Monaco', 15267),\n",
       " ('Singapore', 8141),\n",
       " ('Hong Kong', 6445),\n",
       " ('Gaza Strip', 5191),\n",
       " ('Gibraltar', 4876),\n",
       " ('Bahrain', 1771),\n",
       " ('Maldives', 1319),\n",
       " ('Malta', 1310),\n",
       " ('Bermuda', 1299)]"
      ]
     },
     "execution_count": 46,
     "metadata": {},
     "output_type": "execute_result"
    }
   ],
   "source": [
    "%%sql\n",
    "SELECT name, population/area as ratio\n",
    "    FROM facts\n",
    "    ORDER BY ratio DESC\n",
    "    LIMIT 10"
   ]
  }
 ],
 "metadata": {
  "kernelspec": {
   "display_name": "Python 3",
   "language": "python",
   "name": "python3"
  },
  "language_info": {
   "codemirror_mode": {
    "name": "ipython",
    "version": 3
   },
   "file_extension": ".py",
   "mimetype": "text/x-python",
   "name": "python",
   "nbconvert_exporter": "python",
   "pygments_lexer": "ipython3",
   "version": "3.4.3"
  }
 },
 "nbformat": 4,
 "nbformat_minor": 2
}
